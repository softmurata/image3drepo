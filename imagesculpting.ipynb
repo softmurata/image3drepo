{
  "nbformat": 4,
  "nbformat_minor": 0,
  "metadata": {
    "colab": {
      "provenance": [],
      "gpuType": "T4",
      "authorship_tag": "ABX9TyN722ngoYp4pLn+n1CG5Bfx",
      "include_colab_link": true
    },
    "kernelspec": {
      "name": "python3",
      "display_name": "Python 3"
    },
    "language_info": {
      "name": "python"
    },
    "accelerator": "GPU"
  },
  "cells": [
    {
      "cell_type": "markdown",
      "metadata": {
        "id": "view-in-github",
        "colab_type": "text"
      },
      "source": [
        "<a href=\"https://colab.research.google.com/github/softmurata/image3drepo/blob/main/imagesculpting.ipynb\" target=\"_parent\"><img src=\"https://colab.research.google.com/assets/colab-badge.svg\" alt=\"Open In Colab\"/></a>"
      ]
    },
    {
      "cell_type": "code",
      "source": [
        "!gdown --fuzzy https://drive.google.com/file/d/1mhqGBl0gZjENBuDgJOkMvaKvWw5O6d5C/view?usp=drive_link"
      ],
      "metadata": {
        "id": "RU6JeJzs0v5M"
      },
      "execution_count": null,
      "outputs": []
    },
    {
      "cell_type": "code",
      "execution_count": null,
      "metadata": {
        "id": "n2jHtk0Nz2bl"
      },
      "outputs": [],
      "source": [
        "!git clone https://github.com/vision-x-nyu/image-sculpting.git\n",
        "%cd image-sculpting"
      ]
    },
    {
      "cell_type": "code",
      "source": [
        "%cd /content/image-sculpting\n",
        "!pip install -r requirements.txt"
      ],
      "metadata": {
        "id": "tAPsgeaW1A9x"
      },
      "execution_count": null,
      "outputs": []
    },
    {
      "cell_type": "code",
      "source": [
        "!cp /content/runs.zip /content/image-sculpting/"
      ],
      "metadata": {
        "id": "xZhf-vVw1UWU"
      },
      "execution_count": 1,
      "outputs": []
    },
    {
      "cell_type": "code",
      "source": [
        "%cd /content/image-sculpting\n",
        "!unzip runs.zip"
      ],
      "metadata": {
        "id": "0y0kesEc1Z_B"
      },
      "execution_count": null,
      "outputs": []
    },
    {
      "cell_type": "markdown",
      "source": [
        "Inference with TestData"
      ],
      "metadata": {
        "id": "gfm1LlAC1gU9"
      }
    },
    {
      "cell_type": "code",
      "source": [
        "# pose editing\n",
        "%cd /content/image-sculpting\n",
        "!bash scripts/pose_editing.sh"
      ],
      "metadata": {
        "id": "dP_eRj5Y1hux"
      },
      "execution_count": null,
      "outputs": []
    },
    {
      "cell_type": "code",
      "source": [
        "# T4ではダメそう\n",
        "# というか24GBのやつで一つのposeを変更するのにfinetuning/zero123/poseeditingのフローを辿ると3hくらいかかる→予算的に無理"
      ],
      "metadata": {
        "id": "pJmHbDZGAzT2"
      },
      "execution_count": null,
      "outputs": []
    }
  ]
}